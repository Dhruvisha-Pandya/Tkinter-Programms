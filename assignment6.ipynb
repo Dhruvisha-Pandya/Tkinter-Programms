{
 "cells": [
  {
   "cell_type": "code",
   "execution_count": null,
   "metadata": {},
   "outputs": [],
   "source": [
    "from tkinter import *\n",
    " # Create the main window\n",
    "root = Tk()\n",
    "root.geometry(\"900x600\")\n",
    "root.title(\"National Flag\")\n",
    "#CREATING FOUR DIFFERENT FRAMES FOR GREY BORDERS\n",
    "f4=Frame(root,bg=\"grey\", width=50,height=1000).pack(side=LEFT,fill=Y)\n",
    "f5=Frame(root,bg=\"grey\", width=50,height=1000).pack(side=RIGHT,fill=Y)\n",
    "f6=Frame(root,bg=\"grey\", width=900,height=50).pack(side=TOP,fill=X)\n",
    "f7=Frame(root,bg=\"grey\", width=900,height=50).pack(side=BOTTOM,fill=X)\n",
    "\n",
    "# Create a Frame for the saffron color on top\n",
    "frame1 = Frame(root, bg=\"orange\", width=600, height=175).pack(side=TOP, fill=X)\n",
    "# Create a Frame (label for ashokchakra image) for the white color in the middle\n",
    "photo = PhotoImage(file=\"img.png\")\n",
    "# frame2 = Frame(root, bg=\"white\", width=600, height=175).pack(side=TOP,fill=X)\n",
    "l1=Label(image=photo,height=150,width=150).pack()\n",
    "# Create a Frame for the green color at the bottom\n",
    "frame3 = Frame(root, bg=\"green\", width=600, height=175).pack(side=TOP,fill=X)\n",
    "\n",
    "\n",
    "root.mainloop()\n",
    "\n",
    "\n"
   ]
  },
  {
   "cell_type": "code",
   "execution_count": null,
   "metadata": {},
   "outputs": [],
   "source": []
  }
 ],
 "metadata": {
  "kernelspec": {
   "display_name": "base",
   "language": "python",
   "name": "python3"
  },
  "language_info": {
   "codemirror_mode": {
    "name": "ipython",
    "version": 3
   },
   "file_extension": ".py",
   "mimetype": "text/x-python",
   "name": "python",
   "nbconvert_exporter": "python",
   "pygments_lexer": "ipython3",
   "version": "3.10.9"
  },
  "orig_nbformat": 4
 },
 "nbformat": 4,
 "nbformat_minor": 2
}
