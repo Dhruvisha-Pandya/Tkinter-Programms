{
 "cells": [
  {
   "cell_type": "markdown",
   "id": "99426dfb",
   "metadata": {},
   "source": [
    "## creating a simple window"
   ]
  },
  {
   "cell_type": "code",
   "execution_count": 1,
   "id": "2abd49f2",
   "metadata": {},
   "outputs": [],
   "source": [
    "from tkinter import *\n",
    "root = Tk()\n",
    "x= Label(text=\"Tkinter is easy\")\n",
    "x.pack()\n",
    "root.mainloop()"
   ]
  },
  {
   "cell_type": "markdown",
   "id": "0d92848c",
   "metadata": {},
   "source": [
    "## Buttons "
   ]
  },
  {
   "cell_type": "code",
   "execution_count": 7,
   "id": "de406c4a",
   "metadata": {},
   "outputs": [],
   "source": [
    "from tkinter import *\n",
    "root =Tk()\n",
    "\n",
    "fm = Frame(root)\n",
    "fm.pack()\n",
    "Button(fm,text=\"Button1\", fg=\"red\").pack()\n",
    "Button(fm,text=\"Button2\", fg=\"green\").pack()\n",
    "Button(fm,text=\"Button3\", fg=\"blue\").pack()\n",
    "root.mainloop()"
   ]
  },
  {
   "cell_type": "code",
   "execution_count": 12,
   "id": "435e4be1",
   "metadata": {},
   "outputs": [],
   "source": [
    "from tkinter import *\n",
    "root =Tk()\n",
    "fm = Frame(root)\n",
    "fm.pack(fill=BOTH)\n",
    "Button(fm,text=\"Button1\", fg=\"red\").pack()\n",
    "Button(fm,text=\"Button2\", fg=\"green\").pack(side=LEFT)\n",
    "Button(fm,text=\"Button3\", fg=\"blue\").pack(side=RIGHT)\n",
    "root.mainloop()"
   ]
  },
  {
   "cell_type": "markdown",
   "id": "f6096314",
   "metadata": {},
   "source": [
    "## Task\n"
   ]
  },
  {
   "cell_type": "code",
   "execution_count": 18,
   "id": "7ff9b0df",
   "metadata": {},
   "outputs": [],
   "source": [
    "from tkinter import *\n",
    "root =Tk()\n",
    "fm = Frame(root)\n",
    "fm.pack(fill= BOTH)\n",
    "l1= Label(text=\"Name : \").pack()\n",
    "l2= Label(text=\"Roll no : \").pack()\n",
    "l3= Label(text=\"Email ID : \").pack()\n",
    "Button(fm,text=\"Button1\", fg=\"red\").pack()\n",
    "Button(fm,text=\"Button2\", fg=\"green\").pack(side=LEFT)\n",
    "Button(fm,text=\"Button3\", fg=\"blue\").pack(side=RIGHT)\n",
    "root.mainloop()"
   ]
  },
  {
   "cell_type": "code",
   "execution_count": null,
   "id": "59bd297b",
   "metadata": {},
   "outputs": [],
   "source": [
    "#"
   ]
  }
 ],
 "metadata": {
  "kernelspec": {
   "display_name": "Python 3 (ipykernel)",
   "language": "python",
   "name": "python3"
  },
  "language_info": {
   "codemirror_mode": {
    "name": "ipython",
    "version": 3
   },
   "file_extension": ".py",
   "mimetype": "text/x-python",
   "name": "python",
   "nbconvert_exporter": "python",
   "pygments_lexer": "ipython3",
   "version": "3.10.9"
  }
 },
 "nbformat": 4,
 "nbformat_minor": 5
}
