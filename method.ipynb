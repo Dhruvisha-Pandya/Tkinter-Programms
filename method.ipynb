{
 "cells": [
  {
   "cell_type": "code",
   "execution_count": 2,
   "metadata": {},
   "outputs": [
    {
     "name": "stdout",
     "output_type": "stream",
     "text": [
      "Welcome to C\n",
      "Welcome to C\n",
      "Welcome to C\n"
     ]
    }
   ],
   "source": [
    "from tkinter import *\n",
    "root=Tk()\n",
    "root.geometry(\"600x400\")\n",
    "\n",
    "def call1():\n",
    "    print(\"Welcome to C\")\n",
    "\n",
    "f1=Frame(root,bg=\"red\",borderwidth=6)\n",
    "f1.pack(side=LEFT,anchor=\"nw\")\n",
    "\n",
    "b1=Button(root, fg=\"red\",text=\"Start C\", command=call1)\n",
    "b1.pack(side=LEFT,padx=23)\n",
    "\n",
    "root.mainloop()"
   ]
  },
  {
   "cell_type": "code",
   "execution_count": null,
   "metadata": {},
   "outputs": [],
   "source": []
  }
 ],
 "metadata": {
  "kernelspec": {
   "display_name": "Python 3 (ipykernel)",
   "language": "python",
   "name": "python3"
  },
  "language_info": {
   "codemirror_mode": {
    "name": "ipython",
    "version": 3
   },
   "file_extension": ".py",
   "mimetype": "text/x-python",
   "name": "python",
   "nbconvert_exporter": "python",
   "pygments_lexer": "ipython3",
   "version": "3.10.9"
  }
 },
 "nbformat": 4,
 "nbformat_minor": 2
}
