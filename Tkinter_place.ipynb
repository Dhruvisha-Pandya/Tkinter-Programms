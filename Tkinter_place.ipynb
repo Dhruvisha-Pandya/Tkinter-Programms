{
 "cells": [
  {
   "cell_type": "code",
   "execution_count": 11,
   "metadata": {},
   "outputs": [],
   "source": [
    "from tkinter import * \n",
    "top = Tk()\n",
    "top.geometry(\"300x250\")\n",
    "name = Label(top,text=\"Name\").place(x=30, y=60)\n",
    "email = Label(top,text=\"Email\").place(x=30,y=90)\n",
    "password = Label(top,text=\"Password\").place(x=30,y=120)\n",
    "sbmt = Button(top,text=\"Submit\").place(x=120, y=150)\n",
    "\n",
    "e1=Entry(top).place(x=120,y=60)\n",
    "e2=Entry(top).place(x=120,y=90)\n",
    "e3=Entry(top).place(x=120,y=120)\n",
    "top.mainloop()"
   ]
  },
  {
   "cell_type": "code",
   "execution_count": 25,
   "metadata": {},
   "outputs": [],
   "source": [
    "from tkinter import * \n",
    "top = Tk()\n",
    "top.geometry(\"300x250\")\n",
    "\n",
    "l1 = Label(top,text=\"label1\",padx=\"30\", pady=\"30\",bg=\"red\",fg=\"white\").place(anchor=\"nw\",relx=0, rely=0)\n",
    "l2= Label(top,text=\"label2\",padx=\"30\", pady=\"30\", bg=\"yellow\",fg=\"black\").place(anchor=\"ne\",relx=1.0, rely=0)\n",
    "l3 = Label(top,text=\"Label3\",padx=\"30\", pady=\"30\", bg=\"blue\",fg=\"white\").place(anchor=\"sw\",relx=0, rely=1.0)\n",
    "l4 = Label(top, text=\"Label4\",padx=\"30\", pady=\"30\", bg=\"green\",fg=\"white\").place(anchor=\"se\",relx=1.0, rely=1.0)\n",
    "# lc = Label(text=\"cjhubfueouhwubhrhg\",padx=\"30\", pady=\"30\").place(x=550,y=300)\n",
    "lc = Label(text=\"cjhubfueouhwubhrhg\",padx=\"30\", pady=\"30\", bg=\"black\", fg=\"white\").place(relx=0.5,rely=0.5,anchor=\"center\")\n",
    "top.mainloop()"
   ]
  },
  {
   "cell_type": "code",
   "execution_count": null,
   "metadata": {},
   "outputs": [],
   "source": []
  }
 ],
 "metadata": {
  "kernelspec": {
   "display_name": "Python 3 (ipykernel)",
   "language": "python",
   "name": "python3"
  },
  "language_info": {
   "codemirror_mode": {
    "name": "ipython",
    "version": 3
   },
   "file_extension": ".py",
   "mimetype": "text/x-python",
   "name": "python",
   "nbconvert_exporter": "python",
   "pygments_lexer": "ipython3",
   "version": "3.10.9"
  }
 },
 "nbformat": 4,
 "nbformat_minor": 2
}
