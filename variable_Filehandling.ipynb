{
 "cells": [
  {
   "cell_type": "code",
   "execution_count": 1,
   "metadata": {},
   "outputs": [
    {
     "name": "stdout",
     "output_type": "stream",
     "text": [
      "Form Submitted\n",
      "jk\n"
     ]
    }
   ],
   "source": [
    "from tkinter import *\n",
    "\n",
    "root=Tk()\n",
    "root.geometry(\"500x400\")\n",
    "root.title(\"File Handling using Built-in variables\")\n",
    "\n",
    "def getVal():\n",
    "    print(\"Form Submitted\")\n",
    "    print(f\"{nm_value.get()}\")\n",
    "#Label \n",
    "nm= Label(root,text=\"Username\").grid(row=0)\n",
    "\n",
    "#varible\n",
    "nm_value = StringVar()\n",
    "\n",
    "#Entry \n",
    "nm_entry = Entry(root,textvariable = nm_value).grid(row=0,column=1)\n",
    "#Button\n",
    "sbmt = Button(root,text=\"Submit\", command=getVal).grid(row=2,column=1)\n",
    "\n",
    "root.mainloop()"
   ]
  },
  {
   "cell_type": "code",
   "execution_count": 2,
   "metadata": {},
   "outputs": [],
   "source": [
    "from tkinter import *\n",
    "\n",
    "root=Tk()\n",
    "root.geometry(\"500x400\")\n",
    "root.title(\"File Handling using Built-in variables\")\n",
    "\n",
    "def getVal():\n",
    "    print(\"Form Submitted\") #this line will print in notebook\n",
    "    with open(\"stud_data.txt\",\"w\") as f: \n",
    "                                       \n",
    "        f.write(f\"{nm_value.get()}\") #get is a built-in function just like get,set functions in c language\n",
    "        f.write(f\"\\n{rno_value.get()}\")\n",
    "        f.write(f\"\\n{e_value.get()}\")\n",
    "        f.write(f\"\\n{add_value.get()}\")\n",
    "        f.write(f\"\\n{cid_value.get()}\")\n",
    "        f.write(f\"\\n{mno_value.get()}\")\n",
    "    \n",
    "#Label \n",
    "nm= Label(root,text=\"Username\").grid(row=0)\n",
    "r_no = Label(root,text=\"Roll no\").grid(row=1)\n",
    "e_id = Label(root,text=\"Email ID\").grid(row=2) \n",
    "address = Label(root,text=\"Address\").grid(row=3)\n",
    "c_id= Label(root,text=\"College ID\").grid(row=4)\n",
    "m_no = Label(root,text=\"Mobile no\").grid(row=5)\n",
    "\n",
    "#varible \n",
    "nm_value = StringVar() #variable will store the data/value which is entered by user                       \n",
    "rno_value = StringVar()\n",
    "e_value= StringVar()\n",
    "add_value= StringVar()\n",
    "cid_value= StringVar()\n",
    "mno_value= StringVar()\n",
    "\n",
    "#Entry \n",
    "nm_entry = Entry(root,textvariable = nm_value).grid(row=0,column=1)\n",
    "rno_entry = Entry(root,textvariable = rno_value).grid(row=1,column=1)\n",
    "e_entry= Entry(root,textvariable = e_value).grid(row=2,column=1)\n",
    "add_entry= Entry(root,textvariable =add_value).grid(row=3,column=1)\n",
    "cid_entry= Entry(root,textvariable = cid_value).grid(row=4,column=1)\n",
    "mno_entry= Entry(root,textvariable = mno_value).grid(row=5,column=1)\n",
    "\n",
    "#Button\n",
    "sbmt = Button(root,text=\"Submit\", command=getVal).grid(row=6,column=1)\n",
    "\n",
    "root.mainloop()"
   ]
  },
  {
   "cell_type": "code",
   "execution_count": null,
   "metadata": {},
   "outputs": [],
   "source": []
  }
 ],
 "metadata": {
  "kernelspec": {
   "display_name": "base",
   "language": "python",
   "name": "python3"
  },
  "language_info": {
   "codemirror_mode": {
    "name": "ipython",
    "version": 3
   },
   "file_extension": ".py",
   "mimetype": "text/x-python",
   "name": "python",
   "nbconvert_exporter": "python",
   "pygments_lexer": "ipython3",
   "version": "3.10.9"
  },
  "orig_nbformat": 4
 },
 "nbformat": 4,
 "nbformat_minor": 2
}
