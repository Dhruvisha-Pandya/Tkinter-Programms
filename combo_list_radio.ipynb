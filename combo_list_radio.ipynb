{
 "cells": [
  {
   "cell_type": "code",
   "execution_count": 1,
   "metadata": {},
   "outputs": [
    {
     "name": "stdout",
     "output_type": "stream",
     "text": [
      "Gujarat\n",
      "Punjab\n"
     ]
    }
   ],
   "source": [
    "from tkinter import *\n",
    "import tkinter as tk\n",
    "from tkinter.ttk import Combobox\n",
    "def on_click(self):\n",
    "    # print(c_box.get())\n",
    "    selected = c_box.get()\n",
    "    print(f\"{selected}\")\n",
    " \n",
    "    \n",
    "root = Tk()\n",
    "root.geometry(\"250x200\")\n",
    "root.title('Combobox Example')\n",
    "l1=Label(root ,text=\"select your state\").pack()\n",
    "c_box = Combobox(root,values = [\"Maharashtra\", \"Gujarat\", \"Punjab\"])\n",
    "c_box.pack()\n",
    "c_box.bind(\"<<ComboboxSelected>>\", on_click)\n",
    "root.mainloop()"
   ]
  },
  {
   "cell_type": "code",
   "execution_count": 3,
   "metadata": {},
   "outputs": [],
   "source": [
    "from tkinter import *\n",
    "root = Tk()\n",
    "root.geometry(\"500x400\")\n",
    "root.title('Listbox')\n",
    "\n",
    "l1 = Label(root, text='Select your skill set').pack()\n",
    "l_box= Listbox(root, selectmode=SINGLE)  #MULTIPLE\n",
    "l_box.insert(1,'C')\n",
    "l_box.insert(2,'C++')\n",
    "l_box.insert(3,'Java')\n",
    "l_box.insert(4,'Python')\n",
    "l_box.insert(5,'Js')\n",
    "l_box.insert(6,'PHP')\n",
    "l_box.pack()\n",
    "root.mainloop()"
   ]
  },
  {
   "cell_type": "code",
   "execution_count": 4,
   "metadata": {},
   "outputs": [],
   "source": [
    "from tkinter import *\n",
    "root = Tk()\n",
    "root.geometry(\"250x200\")\n",
    "root.title('RadioButton')\n",
    "var = IntVar()\n",
    "rb1 = Radiobutton(root,text=\"Male\", value = 'male', variable=var)\n",
    "rb2 = Radiobutton(root,text=\"Female\",value = 'female', variable=var)\n",
    "rb1.pack()\n",
    "rb2.pack()\n",
    "root.mainloop()"
   ]
  },
  {
   "cell_type": "markdown",
   "metadata": {},
   "source": [
    "## rdbtn with sql"
   ]
  },
  {
   "cell_type": "code",
   "execution_count": 6,
   "metadata": {},
   "outputs": [],
   "source": [
    "from tkinter import *\n",
    "import mysql.connector\n",
    "\n",
    "def save_to_database():\n",
    "    selected_gender = var.get()\n",
    "\n",
    "    # Replace these values with your MySQL server details\n",
    "    db_connection = mysql.connector.connect(\n",
    "        host=\"localhost\",\n",
    "        user=\"root\",\n",
    "        password=\"DPPandya_19\",\n",
    "        database=\"db1\"\n",
    "    )\n",
    "\n",
    "    cursor = db_connection.cursor()\n",
    "\n",
    "    # Assuming you have a table named 'users' with a column 'gender'\n",
    "    query = \"INSERT INTO users (gender) VALUES (%s)\"\n",
    "    data = (selected_gender,)\n",
    "\n",
    "    try:\n",
    "        cursor.execute(query, data)\n",
    "        db_connection.commit()\n",
    "        print(\"Data saved to database successfully!\")\n",
    "\n",
    "    except mysql.connector.Error as err:\n",
    "        print(f\"Error: {err}\")\n",
    "\n",
    "    finally:\n",
    "        cursor.close()\n",
    "        db_connection.close()\n",
    "\n",
    "root = Tk()\n",
    "root.geometry(\"250x200\")\n",
    "root.title('RadioButton')\n",
    "\n",
    "var = StringVar()  # Changed IntVar to StringVar for storing 'male' or 'female'\n",
    "\n",
    "rb1 = Radiobutton(root, text=\"Male\", value='male', variable=var)\n",
    "rb2 = Radiobutton(root, text=\"Female\", value='female', variable=var)\n",
    "\n",
    "save_button = Button(root, text=\"Save to Database\", command=save_to_database)\n",
    "\n",
    "rb1.pack()\n",
    "rb2.pack()\n",
    "save_button.pack()\n",
    "\n",
    "root.mainloop()\n"
   ]
  },
  {
   "cell_type": "code",
   "execution_count": null,
   "metadata": {},
   "outputs": [],
   "source": []
  }
 ],
 "metadata": {
  "kernelspec": {
   "display_name": "base",
   "language": "python",
   "name": "python3"
  },
  "language_info": {
   "codemirror_mode": {
    "name": "ipython",
    "version": 3
   },
   "file_extension": ".py",
   "mimetype": "text/x-python",
   "name": "python",
   "nbconvert_exporter": "python",
   "pygments_lexer": "ipython3",
   "version": "3.10.9"
  },
  "orig_nbformat": 4
 },
 "nbformat": 4,
 "nbformat_minor": 2
}
