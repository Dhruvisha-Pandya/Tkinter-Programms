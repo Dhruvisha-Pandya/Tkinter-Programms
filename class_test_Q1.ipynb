{
 "cells": [
  {
   "cell_type": "code",
   "execution_count": 1,
   "metadata": {},
   "outputs": [
    {
     "name": "stdout",
     "output_type": "stream",
     "text": [
      "This is circle\n",
      "This is rectangle\n"
     ]
    }
   ],
   "source": [
    "class shape():\n",
    "    def draw(Self):\n",
    "        print(\"This is base class shape\")\n",
    "\n",
    "class circle(shape):\n",
    "    def draw(Self):\n",
    "        # return super().draw()   # to display shape class content\n",
    "        print(\"This is circle\")\n",
    "\n",
    "class rectangle(shape):\n",
    "    def draw(Self):\n",
    "        # return super().draw()\n",
    "        print(\"This is rectangle\")\n",
    "\n",
    "c1 = circle()\n",
    "c1.draw()\n",
    "r1 = rectangle()\n",
    "r1.draw()"
   ]
  },
  {
   "cell_type": "code",
   "execution_count": 2,
   "metadata": {},
   "outputs": [
    {
     "name": "stdout",
     "output_type": "stream",
     "text": [
      "Employee name : Ryan\n",
      "Salary : 45000\n",
      "Leave approved\n"
     ]
    }
   ],
   "source": [
    "class Employee():\n",
    "    def __init__(self, e_name, e_salary):\n",
    "        self.e_nm = e_name\n",
    "        self.salary = e_salary\n",
    "        print(\"Employee name : \"+ self.e_nm)\n",
    "        print(\"Salary : \"+self.salary)\n",
    "\n",
    "class Manager(Employee):\n",
    "    def __init__(self, e_name, e_salary):\n",
    "        super().__init__(e_name, e_salary)\n",
    "    def approve_leave(self):\n",
    "        print(\"Leave approved\")\n",
    "\n",
    "m1 = Manager('Ryan', '45000')\n",
    "m1.approve_leave()\n",
    "        "
   ]
  },
  {
   "cell_type": "code",
   "execution_count": 7,
   "metadata": {},
   "outputs": [],
   "source": [
    "from tkinter import *\n",
    "\n",
    "root = Tk()\n",
    "root.geometry(\"500x400\")\n",
    "\n",
    "def getval():\n",
    "    with open(\"User_data.txt\", \"w\") as f:\n",
    "        f.write(f\"\\n{nm_val.get()}\")\n",
    "        f.write(f\"\\n{pw_val.get()}\")\n",
    "        # print(\"Form Submitted\")\n",
    "\n",
    "L1 = Label(root, text=\"Name\")\n",
    "L1.pack()\n",
    "\n",
    "nm_val = StringVar()\n",
    "e1 = Entry(root, textvariable=nm_val)\n",
    "e1.pack()\n",
    "\n",
    "L2 = Label(root, text=\"Password\")\n",
    "L2.pack()\n",
    "\n",
    "pw_val = StringVar()\n",
    "e2 = Entry(root, textvariable=pw_val)\n",
    "e2.pack()\n",
    "\n",
    "sbmt = Button(root, text=\"Submit\", command=getval)\n",
    "sbmt.pack()\n",
    "\n",
    "root.mainloop()\n"
   ]
  },
  {
   "cell_type": "code",
   "execution_count": 5,
   "metadata": {},
   "outputs": [],
   "source": [
    "from tkinter import *\n",
    "from tkinter import messagebox\n",
    "import mysql.connector\n",
    "\n",
    "lg = Tk()\n",
    "lg.geometry(\"500x400\")\n",
    "\n",
    "def login():\n",
    "    name = e1.get()\n",
    "    id = e2.get()\n",
    "\n",
    "    try:\n",
    "        conn = mysql.connector.connect(\n",
    "             host='localhost',\n",
    "             user='root',\n",
    "             password=\"DPPandya_19\",\n",
    "             database=\"new_database\"\n",
    "        )\n",
    "        cursor = conn.cursor()\n",
    "\n",
    "        query = \"SELECT * FROM employee WHERE Emp_name = %s AND ID = %s;\"\n",
    "        cursor.execute(query, (name, id))\n",
    "        user = cursor.fetchone()\n",
    "\n",
    "        if user:\n",
    "            messagebox.showinfo(\"Welcome\")\n",
    "        else:\n",
    "            messagebox.showinfo(\"Login failed\", \"Invalid name or ID\")\n",
    "\n",
    "    except mysql.connector.Error as err:\n",
    "        messagebox.showerror(\"Database error\", err)\n",
    "\n",
    "    finally:\n",
    "        if conn.is_connected():\n",
    "            cursor.close()\n",
    "            conn.close()\n",
    "\n",
    "l1 = Label(lg, text=\"NAME\")\n",
    "l1.pack()\n",
    "\n",
    "e1 = Entry(lg)\n",
    "e1.pack()\n",
    "\n",
    "l2 = Label(lg, text='ID')\n",
    "l2.pack()\n",
    "\n",
    "e2 = Entry(lg, show=\"*\")\n",
    "e2.pack()\n",
    "\n",
    "lg_btn = Button(lg, text=\"Login\", command=login)\n",
    "lg_btn.pack()\n",
    "\n",
    "lg.mainloop()\n"
   ]
  },
  {
   "cell_type": "code",
   "execution_count": null,
   "metadata": {},
   "outputs": [],
   "source": []
  }
 ],
 "metadata": {
  "kernelspec": {
   "display_name": "base",
   "language": "python",
   "name": "python3"
  },
  "language_info": {
   "codemirror_mode": {
    "name": "ipython",
    "version": 3
   },
   "file_extension": ".py",
   "mimetype": "text/x-python",
   "name": "python",
   "nbconvert_exporter": "python",
   "pygments_lexer": "ipython3",
   "version": "3.10.9"
  },
  "orig_nbformat": 4
 },
 "nbformat": 4,
 "nbformat_minor": 2
}
