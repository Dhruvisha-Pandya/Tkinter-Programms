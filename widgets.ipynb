{
 "cells": [
  {
   "cell_type": "code",
   "execution_count": 1,
   "metadata": {},
   "outputs": [],
   "source": [
    "from tkinter import *\n",
    "window=Tk()\n",
    "window.geometry(\"300x200\")\n",
    "window.title(\"Registration Form\")\n",
    "\n",
    "l1=Label(window,text=\"username\").grid(row=0)\n",
    "l2=Label(window,text=\"Password\").grid(row=1)\n",
    "\n",
    "e1=Entry(window).grid(row=0,column=1)\n",
    "e2=Entry(window).grid(row=1,column=1)\n",
    "\n",
    "b1=Button(window,text=\"Submit\").grid(row=2)\n",
    "\n",
    "c1=Checkbutton(window,text=\"click me\").grid(row=2,column=1)\n",
    "\n",
    "\n",
    "window.mainloop()"
   ]
  },
  {
   "cell_type": "code",
   "execution_count": null,
   "metadata": {},
   "outputs": [],
   "source": []
  }
 ],
 "metadata": {
  "kernelspec": {
   "display_name": "base",
   "language": "python",
   "name": "python3"
  },
  "language_info": {
   "codemirror_mode": {
    "name": "ipython",
    "version": 3
   },
   "file_extension": ".py",
   "mimetype": "text/x-python",
   "name": "python",
   "nbconvert_exporter": "python",
   "pygments_lexer": "ipython3",
   "version": "3.10.9"
  },
  "orig_nbformat": 4
 },
 "nbformat": 4,
 "nbformat_minor": 2
}
